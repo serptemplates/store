{
 "cells": [
  {
   "cell_type": "markdown",
   "id": "0",
   "metadata": {},
   "source": [
    "# License Server Remote Testing\n",
    "\n",
    "Exercise the deployed Cloudflare Worker end-to-end: create or update a license, issue a JWT, verify claims, and refresh the session.\n"
   ]
  },
  {
   "cell_type": "markdown",
   "id": "1",
   "metadata": {},
   "source": [
    "## Requirements\n",
    "\n",
    "Install the Python dependencies once:\n",
    "\n",
    "```bash\n",
    "pip install requests python-jose cryptography\n",
    "```\n",
    "\n",
    "Environment variables you can set before running the notebook:\n",
    "\n",
    "- `LICENSE_ADMIN_API_KEY` (required for admin endpoints)\n",
    "- `LICENSE_BASE_URL` (defaults to `https://license.serp.co`)\n",
    "- `LICENSE_ISSUER` (defaults to `https://license.serp.co`)\n",
    "- `LICENSE_AUDIENCE` (optional JWT `aud` check)\n",
    "- `LICENSE_PUBLIC_KEY_PATH` (defaults to `../../license-public.pem`)\n",
    "- `LICENSE_DEVICE_ID` & `LICENSE_TEST_USER_AGENT` (optional overrides)\n"
   ]
  },
  {
   "cell_type": "code",
   "execution_count": null,
   "id": "2",
   "metadata": {},
   "outputs": [],
   "source": [
    "import os\n",
    "import json\n",
    "import time\n",
    "from uuid import uuid4\n",
    "from pathlib import Path\n",
    "from typing import Any, Dict, List, Optional\n",
    "\n",
    "import requests\n",
    "from jose import jwt"
   ]
  },
  {
   "cell_type": "code",
   "execution_count": null,
   "id": "3",
   "metadata": {},
   "outputs": [],
   "source": [
    "# Configuration\n",
    "BASE_URL = os.getenv(\"LICENSE_BASE_URL\", \"https://license.serp.co\").rstrip(\"/\")\n",
    "ADMIN_API_KEY = os.getenv(\"LICENSE_ADMIN_API_KEY\", \"\")\n",
    "ISSUER = os.getenv(\"LICENSE_ISSUER\", \"https://license.serp.co\")\n",
    "TOKEN_AUDIENCE = os.getenv(\"LICENSE_AUDIENCE\") or \"local-clients\"\n",
    "DEVICE_ID = os.getenv(\"LICENSE_DEVICE_ID\", \"notebook-device-1\")\n",
    "\n",
    "PUBLIC_KEY_PATH = Path(os.getenv(\"LICENSE_PUBLIC_KEY_PATH\", \"../../license-public.pem\"))\n",
    "if not PUBLIC_KEY_PATH.exists():\n",
    "    raise FileNotFoundError(f\"Public key not found at {PUBLIC_KEY_PATH.resolve()}\")\n",
    "\n",
    "PUBLIC_KEY_PEM = PUBLIC_KEY_PATH.read_text(encoding=\"utf-8\")\n",
    "\n",
    "DEFAULT_USER_AGENT = os.getenv(\n",
    "    \"LICENSE_TEST_USER_AGENT\",\n",
    "    \"Mozilla/5.0 (Windows NT 10.0; Win64; x64) LicenseNotebook/1.0\",\n",
    ")\n",
    "\n",
    "session = requests.Session()\n",
    "session.headers.update(\n",
    "    {\n",
    "        \"User-Agent\": DEFAULT_USER_AGENT,\n",
    "        \"Accept\": \"application/json\",\n",
    "        \"Content-Type\": \"application/json\",\n",
    "    }\n",
    ")\n",
    "\n",
    "ADMIN_HEADERS = {\"Authorization\": f\"Bearer {ADMIN_API_KEY}\"}\n",
    "\n",
    "if not ADMIN_API_KEY or \"replace\" in ADMIN_API_KEY.lower():\n",
    "    print(\"⚠️ Update ADMIN_API_KEY before running admin endpoints.\")\n",
    "\n",
    "TEST_CONTEXT: Dict[str, Any] = {}"
   ]
  },
  {
   "cell_type": "markdown",
   "id": "4",
   "metadata": {},
   "source": [
    "## Helper functions\n"
   ]
  },
  {
   "cell_type": "code",
   "execution_count": null,
   "id": "5",
   "metadata": {},
   "outputs": [],
   "source": [
    "def print_json(data: Any) -> None:\n",
    "    if data is None:\n",
    "        print(\"null\")\n",
    "        return\n",
    "    if isinstance(data, (dict, list)):\n",
    "        print(json.dumps(data, indent=2, sort_keys=True))\n",
    "        return\n",
    "    print(data)\n",
    "\n",
    "\n",
    "def upsert_purchase(\n",
    "    email: str,\n",
    "    tier: str = \"pro\",\n",
    "    entitlements: Optional[List[str]] = None,\n",
    "    features: Optional[Dict[str, Any]] = None,\n",
    "    amount: Optional[int] = 0,\n",
    "    currency: Optional[str] = \"usd\",\n",
    "    metadata: Optional[Dict[str, Any]] = None,\n",
    ") -> Dict[str, Any]:\n",
    "    entitlements = entitlements or []\n",
    "    features = features or {}\n",
    "    metadata = metadata or {}\n",
    "\n",
    "    payload = {\n",
    "        \"id\": f\"evt-{uuid4().hex}\",\n",
    "        \"provider\": \"notebook\",\n",
    "        \"providerObjectId\": f\"sub-{uuid4().hex[:10]}\",\n",
    "        \"eventType\": \"notebook.purchase\",\n",
    "        \"status\": \"completed\",\n",
    "        \"amount\": amount,\n",
    "        \"currency\": currency,\n",
    "        \"userEmail\": email,\n",
    "        \"tier\": tier,\n",
    "        \"entitlements\": entitlements,\n",
    "        \"features\": features,\n",
    "        \"expiresAt\": None,\n",
    "        \"metadata\": {**metadata, \"notebookRunAt\": int(time.time())},\n",
    "        \"rawEvent\": {\"source\": \"remote_testing.ipynb\"},\n",
    "    }\n",
    "\n",
    "    response = session.post(\n",
    "        f\"{BASE_URL}/admin/purchases\",\n",
    "        json=payload,\n",
    "        headers=ADMIN_HEADERS,\n",
    "        timeout=15,\n",
    "    )\n",
    "    response.raise_for_status()\n",
    "    return response.json()\n",
    "\n",
    "\n",
    "def get_license_by_email(email: str) -> Optional[Dict[str, Any]]:\n",
    "    response = session.get(\n",
    "        f\"{BASE_URL}/admin/licenses\",\n",
    "        params={\"email\": email},\n",
    "        headers=ADMIN_HEADERS,\n",
    "        timeout=15,\n",
    "    )\n",
    "    if response.status_code == 404:\n",
    "        return None\n",
    "    response.raise_for_status()\n",
    "    return response.json()\n",
    "\n",
    "\n",
    "def issue_token(\n",
    "    license_key: str,\n",
    "    email: Optional[str] = None,\n",
    "    license_id: Optional[str] = None,\n",
    "    device_id: str = DEVICE_ID,\n",
    ") -> Dict[str, Any]:\n",
    "    payload = {\"licenseKey\": license_key, \"deviceId\": device_id}\n",
    "    if email:\n",
    "        payload[\"email\"] = email\n",
    "    if license_id:\n",
    "        payload[\"licenseId\"] = license_id\n",
    "\n",
    "    response = session.post(\n",
    "        f\"{BASE_URL}/auth/token\",\n",
    "        json=payload,\n",
    "        timeout=15,\n",
    "    )\n",
    "    response.raise_for_status()\n",
    "    return response.json()\n",
    "\n",
    "\n",
    "def refresh_token(license_id: str, device_id: str = DEVICE_ID) -> Dict[str, Any]:\n",
    "    payload = {\"licenseId\": license_id, \"deviceId\": device_id}\n",
    "    response = session.post(\n",
    "        f\"{BASE_URL}/auth/refresh\",\n",
    "        json=payload,\n",
    "        timeout=15,\n",
    "    )\n",
    "    response.raise_for_status()\n",
    "    return response.json()\n",
    "\n",
    "\n",
    "def verify_jwt(\n",
    "    token: str,\n",
    "    issuer: str = ISSUER,\n",
    "    audience: Optional[str] = TOKEN_AUDIENCE,\n",
    ") -> Dict[str, Any]:\n",
    "    decode_kwargs = {\"issuer\": issuer}\n",
    "    if audience:\n",
    "        decode_kwargs[\"audience\"] = audience\n",
    "    return jwt.decode(token, PUBLIC_KEY_PEM, algorithms=[\"RS256\"], **decode_kwargs)"
   ]
  },
  {
   "cell_type": "markdown",
   "id": "6",
   "metadata": {},
   "source": [
    "## 1. Create or update a license via the admin API\n"
   ]
  },
  {
   "cell_type": "code",
   "execution_count": null,
   "id": "7",
   "metadata": {},
   "outputs": [],
   "source": [
    "test_email = f\"test@serp.co\"\n",
    "purchase_result = upsert_purchase(\n",
    "    email=test_email,\n",
    "    tier=\"pro\",\n",
    "    entitlements=[\"tts_app\"],\n",
    "    features={\"seats\": 1},\n",
    ")\n",
    "\n",
    "TEST_CONTEXT.update(\n",
    "    {\n",
    "        \"email\": test_email,\n",
    "        \"licenseId\": purchase_result.get(\"licenseId\"),\n",
    "        \"licenseKey\": purchase_result.get(\"licenseKey\"),\n",
    "        \"purchase\": purchase_result,\n",
    "    }\n",
    ")\n",
    "\n",
    "print(f\"Created/updated license for {test_email}\")\n",
    "print_json(purchase_result)"
   ]
  },
  {
   "cell_type": "markdown",
   "id": "8",
   "metadata": {},
   "source": [
    "## 2. Inspect the latest license record\n"
   ]
  },
  {
   "cell_type": "code",
   "execution_count": null,
   "id": "9",
   "metadata": {},
   "outputs": [],
   "source": [
    "license_details = get_license_by_email(TEST_CONTEXT[\"email\"])\n",
    "if not license_details:\n",
    "    raise RuntimeError(\"License lookup failed; check the admin API response.\")\n",
    "\n",
    "TEST_CONTEXT[\"license_details\"] = license_details\n",
    "TEST_CONTEXT[\"licenseId\"] = TEST_CONTEXT.get(\"licenseId\") or license_details.get(\n",
    "    \"licenseId\"\n",
    ")\n",
    "TEST_CONTEXT[\"licenseKey\"] = TEST_CONTEXT.get(\"licenseKey\") or license_details.get(\n",
    "    \"key\"\n",
    ")\n",
    "\n",
    "print_json(license_details)"
   ]
  },
  {
   "cell_type": "markdown",
   "id": "10",
   "metadata": {},
   "source": [
    "## 3. Request an access token\n"
   ]
  },
  {
   "cell_type": "code",
   "execution_count": null,
   "id": "11",
   "metadata": {},
   "outputs": [],
   "source": [
    "license_key = TEST_CONTEXT.get(\"licenseKey\")\n",
    "if not license_key:\n",
    "    raise RuntimeError(\"License key missing; ensure the license record includes `key`.\")\n",
    "\n",
    "token_response = issue_token(\n",
    "    license_key=license_key,\n",
    "    email=TEST_CONTEXT.get(\"email\"),\n",
    "    license_id=TEST_CONTEXT.get(\"licenseId\"),\n",
    "    device_id=DEVICE_ID,\n",
    ")\n",
    "\n",
    "TEST_CONTEXT[\"token_response\"] = token_response\n",
    "print_json(token_response)"
   ]
  },
  {
   "cell_type": "markdown",
   "id": "12",
   "metadata": {},
   "source": [
    "## 4. Validate JWT claims locally\n"
   ]
  },
  {
   "cell_type": "code",
   "execution_count": null,
   "id": "13",
   "metadata": {},
   "outputs": [],
   "source": [
    "decoded_payload = verify_jwt(TEST_CONTEXT[\"token_response\"][\"token\"])\n",
    "TEST_CONTEXT[\"decoded_payload\"] = decoded_payload\n",
    "print_json(decoded_payload)"
   ]
  },
  {
   "cell_type": "markdown",
   "id": "14",
   "metadata": {},
   "source": [
    "## 5. Refresh the session\n"
   ]
  },
  {
   "cell_type": "code",
   "execution_count": null,
   "id": "15",
   "metadata": {},
   "outputs": [],
   "source": [
    "license_id_for_refresh = TEST_CONTEXT.get(\"licenseId\") or TEST_CONTEXT[\n",
    "    \"token_response\"\n",
    "].get(\"licenseId\")\n",
    "if not license_id_for_refresh:\n",
    "    raise RuntimeError(\"licenseId missing; cannot refresh token.\")\n",
    "\n",
    "refresh_response = refresh_token(license_id=license_id_for_refresh, device_id=DEVICE_ID)\n",
    "TEST_CONTEXT[\"refresh_response\"] = refresh_response\n",
    "print_json(refresh_response)"
   ]
  },
  {
   "cell_type": "markdown",
   "id": "16",
   "metadata": {},
   "source": [
    "## 6. Snapshot the persisted license\n"
   ]
  },
  {
   "cell_type": "code",
   "execution_count": null,
   "id": "17",
   "metadata": {},
   "outputs": [],
   "source": [
    "latest_license = get_license_by_email(TEST_CONTEXT[\"email\"])\n",
    "TEST_CONTEXT[\"latest_license\"] = latest_license\n",
    "print_json(latest_license)"
   ]
  }
 ],
 "metadata": {
  "kernelspec": {
   "display_name": "Python 3",
   "language": "python",
   "name": "python3"
  },
  "language_info": {
   "codemirror_mode": {
    "name": "ipython",
    "version": 3
   },
   "file_extension": ".py",
   "mimetype": "text/x-python",
   "name": "python",
   "nbconvert_exporter": "python",
   "pygments_lexer": "ipython3",
   "version": "3.10.8"
  }
 },
 "nbformat": 4,
 "nbformat_minor": 5
}
